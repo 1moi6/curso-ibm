{
  "cells": [
    {
      "attachments": {},
      "cell_type": "markdown",
      "metadata": {},
      "source": [
        "# Machine Learning Foundation\n",
        "\n",
        "## Section 2, Part c: Cross Validation \n"
      ]
    },
    {
      "attachments": {},
      "cell_type": "markdown",
      "metadata": {},
      "source": [
        "## Learning objectives\n",
        "\n",
        "By the end of this lesson, you will be able to:\n",
        "\n",
        "* Chain multiple data processing steps together using `Pipeline`\n",
        "* Use the `KFolds` object to split data into multiple folds.\n",
        "* Perform cross validation using SciKit Learn with `cross_val_predict` and `GridSearchCV`\n"
      ]
    },
    {
      "cell_type": "code",
      "execution_count": 1,
      "metadata": {
        "ExecuteTime": {
          "end_time": "2019-02-19T17:20:55.865735Z",
          "start_time": "2019-02-19T17:20:54.685698Z"
        },
        "trusted": true
      },
      "outputs": [],
      "source": [
        "# Surpress warnings:\n",
        "def warn(*args, **kwargs):\n",
        "    pass\n",
        "import warnings\n",
        "warnings.warn = warn\n",
        "\n",
        "import numpy as np\n",
        "import pickle\n",
        "import pandas as pd\n",
        "import matplotlib.pyplot as plt\n",
        "import skillsnetwork\n",
        "\n",
        "from sklearn.preprocessing import StandardScaler, PolynomialFeatures\n",
        "from sklearn.model_selection import KFold, cross_val_predict\n",
        "from sklearn.linear_model import LinearRegression, Lasso, Ridge\n",
        "from sklearn.metrics import r2_score\n",
        "from sklearn.pipeline import Pipeline"
      ]
    },
    {
      "cell_type": "code",
      "execution_count": 2,
      "metadata": {
        "trusted": true
      },
      "outputs": [
        {
          "data": {
            "application/vnd.jupyter.widget-view+json": {
              "model_id": "9f70ebddb6c14cf6bd2c575ef2da0c22",
              "version_major": 2,
              "version_minor": 0
            },
            "text/plain": [
              "Downloading boston_housing_clean.pickle:   0%|          | 0/60056 [00:00<?, ?it/s]"
            ]
          },
          "metadata": {},
          "output_type": "display_data"
        },
        {
          "name": "stdout",
          "output_type": "stream",
          "text": [
            "Saved as 'boston_housing_clean.pickle'\n"
          ]
        }
      ],
      "source": [
        "# Note we are loading a slightly different (\"cleaned\") pickle file\n",
        "\n",
        "URL = 'https://cf-courses-data.s3.us.cloud-object-storage.appdomain.cloud/IBM-ML240EN-SkillsNetwork/labs/data/boston_housing_clean.pickle'\n",
        "await skillsnetwork.download_dataset(URL)\n",
        "\n",
        "boston = pickle.load(open('boston_housing_clean.pickle', \"rb\" ))\n"
      ]
    },
    {
      "cell_type": "code",
      "execution_count": 3,
      "metadata": {
        "ExecuteTime": {
          "end_time": "2019-02-19T17:21:01.676948Z",
          "start_time": "2019-02-19T17:21:01.671315Z"
        },
        "trusted": true
      },
      "outputs": [
        {
          "data": {
            "text/plain": [
              "dict_keys(['dataframe', 'description'])"
            ]
          },
          "execution_count": 3,
          "metadata": {},
          "output_type": "execute_result"
        }
      ],
      "source": [
        "boston.keys()"
      ]
    },
    {
      "cell_type": "code",
      "execution_count": 4,
      "metadata": {
        "ExecuteTime": {
          "end_time": "2019-02-19T17:21:10.682135Z",
          "start_time": "2019-02-19T17:21:10.678835Z"
        },
        "trusted": true
      },
      "outputs": [],
      "source": [
        "boston_data = boston['dataframe']\n",
        "boston_description = boston['description']"
      ]
    },
    {
      "cell_type": "code",
      "execution_count": 5,
      "metadata": {
        "ExecuteTime": {
          "end_time": "2019-02-19T17:22:10.274974Z",
          "start_time": "2019-02-19T17:22:10.256879Z"
        },
        "trusted": true
      },
      "outputs": [
        {
          "data": {
            "text/html": [
              "<div>\n",
              "<style scoped>\n",
              "    .dataframe tbody tr th:only-of-type {\n",
              "        vertical-align: middle;\n",
              "    }\n",
              "\n",
              "    .dataframe tbody tr th {\n",
              "        vertical-align: top;\n",
              "    }\n",
              "\n",
              "    .dataframe thead th {\n",
              "        text-align: right;\n",
              "    }\n",
              "</style>\n",
              "<table border=\"1\" class=\"dataframe\">\n",
              "  <thead>\n",
              "    <tr style=\"text-align: right;\">\n",
              "      <th></th>\n",
              "      <th>CRIM</th>\n",
              "      <th>ZN</th>\n",
              "      <th>INDUS</th>\n",
              "      <th>CHAS</th>\n",
              "      <th>NOX</th>\n",
              "      <th>RM</th>\n",
              "      <th>AGE</th>\n",
              "      <th>DIS</th>\n",
              "      <th>RAD</th>\n",
              "      <th>TAX</th>\n",
              "      <th>PTRATIO</th>\n",
              "      <th>B</th>\n",
              "      <th>LSTAT</th>\n",
              "      <th>MEDV</th>\n",
              "    </tr>\n",
              "  </thead>\n",
              "  <tbody>\n",
              "    <tr>\n",
              "      <th>0</th>\n",
              "      <td>0.00632</td>\n",
              "      <td>18.0</td>\n",
              "      <td>2.31</td>\n",
              "      <td>0.0</td>\n",
              "      <td>0.538</td>\n",
              "      <td>6.575</td>\n",
              "      <td>65.2</td>\n",
              "      <td>4.0900</td>\n",
              "      <td>1.0</td>\n",
              "      <td>296.0</td>\n",
              "      <td>15.3</td>\n",
              "      <td>396.90</td>\n",
              "      <td>4.98</td>\n",
              "      <td>24.0</td>\n",
              "    </tr>\n",
              "    <tr>\n",
              "      <th>1</th>\n",
              "      <td>0.02731</td>\n",
              "      <td>0.0</td>\n",
              "      <td>7.07</td>\n",
              "      <td>0.0</td>\n",
              "      <td>0.469</td>\n",
              "      <td>6.421</td>\n",
              "      <td>78.9</td>\n",
              "      <td>4.9671</td>\n",
              "      <td>2.0</td>\n",
              "      <td>242.0</td>\n",
              "      <td>17.8</td>\n",
              "      <td>396.90</td>\n",
              "      <td>9.14</td>\n",
              "      <td>21.6</td>\n",
              "    </tr>\n",
              "    <tr>\n",
              "      <th>2</th>\n",
              "      <td>0.02729</td>\n",
              "      <td>0.0</td>\n",
              "      <td>7.07</td>\n",
              "      <td>0.0</td>\n",
              "      <td>0.469</td>\n",
              "      <td>7.185</td>\n",
              "      <td>61.1</td>\n",
              "      <td>4.9671</td>\n",
              "      <td>2.0</td>\n",
              "      <td>242.0</td>\n",
              "      <td>17.8</td>\n",
              "      <td>392.83</td>\n",
              "      <td>4.03</td>\n",
              "      <td>34.7</td>\n",
              "    </tr>\n",
              "    <tr>\n",
              "      <th>3</th>\n",
              "      <td>0.03237</td>\n",
              "      <td>0.0</td>\n",
              "      <td>2.18</td>\n",
              "      <td>0.0</td>\n",
              "      <td>0.458</td>\n",
              "      <td>6.998</td>\n",
              "      <td>45.8</td>\n",
              "      <td>6.0622</td>\n",
              "      <td>3.0</td>\n",
              "      <td>222.0</td>\n",
              "      <td>18.7</td>\n",
              "      <td>394.63</td>\n",
              "      <td>2.94</td>\n",
              "      <td>33.4</td>\n",
              "    </tr>\n",
              "    <tr>\n",
              "      <th>4</th>\n",
              "      <td>0.06905</td>\n",
              "      <td>0.0</td>\n",
              "      <td>2.18</td>\n",
              "      <td>0.0</td>\n",
              "      <td>0.458</td>\n",
              "      <td>7.147</td>\n",
              "      <td>54.2</td>\n",
              "      <td>6.0622</td>\n",
              "      <td>3.0</td>\n",
              "      <td>222.0</td>\n",
              "      <td>18.7</td>\n",
              "      <td>396.90</td>\n",
              "      <td>5.33</td>\n",
              "      <td>36.2</td>\n",
              "    </tr>\n",
              "  </tbody>\n",
              "</table>\n",
              "</div>"
            ],
            "text/plain": [
              "      CRIM    ZN  INDUS  CHAS    NOX     RM   AGE     DIS  RAD    TAX  \\\n",
              "0  0.00632  18.0   2.31   0.0  0.538  6.575  65.2  4.0900  1.0  296.0   \n",
              "1  0.02731   0.0   7.07   0.0  0.469  6.421  78.9  4.9671  2.0  242.0   \n",
              "2  0.02729   0.0   7.07   0.0  0.469  7.185  61.1  4.9671  2.0  242.0   \n",
              "3  0.03237   0.0   2.18   0.0  0.458  6.998  45.8  6.0622  3.0  222.0   \n",
              "4  0.06905   0.0   2.18   0.0  0.458  7.147  54.2  6.0622  3.0  222.0   \n",
              "\n",
              "   PTRATIO       B  LSTAT  MEDV  \n",
              "0     15.3  396.90   4.98  24.0  \n",
              "1     17.8  396.90   9.14  21.6  \n",
              "2     17.8  392.83   4.03  34.7  \n",
              "3     18.7  394.63   2.94  33.4  \n",
              "4     18.7  396.90   5.33  36.2  "
            ]
          },
          "execution_count": 5,
          "metadata": {},
          "output_type": "execute_result"
        }
      ],
      "source": [
        "boston_data.head()"
      ]
    },
    {
      "attachments": {},
      "cell_type": "markdown",
      "metadata": {},
      "source": [
        "### Discussion: \n",
        "\n",
        "Suppose we want to do Linear Regression on our dataset to get an estimate, based on mean squared error, of how well our model will perform on data outside our dataset. \n",
        "\n",
        "Suppose also that our data is split into three folds: Fold 1, Fold 2, and Fold 3.\n",
        "\n",
        "What would the steps be, in English, to do this?\n"
      ]
    },
    {
      "attachments": {},
      "cell_type": "markdown",
      "metadata": {},
      "source": [
        "**Your response below**\n"
      ]
    },
    {
      "attachments": {},
      "cell_type": "markdown",
      "metadata": {},
      "source": [
        " \n"
      ]
    },
    {
      "attachments": {},
      "cell_type": "markdown",
      "metadata": {},
      "source": [
        "#### Coding this up\n",
        "\n",
        "The [`KFold`](http://scikit-learn.org/stable/modules/generated/sklearn.model_selection.KFold.html?utm_medium=Exinfluencer&utm_source=Exinfluencer&utm_content=000026UJ&utm_term=10006555&utm_id=NA-SkillsNetwork-Channel-SkillsNetworkCoursesIBMML240ENSkillsNetwork783-2023-01-01) object in SciKit Learn tells the cross validation object (see below) how to split up the data:\n"
      ]
    },
    {
      "cell_type": "code",
      "execution_count": 6,
      "metadata": {
        "ExecuteTime": {
          "end_time": "2019-02-19T17:23:05.068445Z",
          "start_time": "2019-02-19T17:23:05.064683Z"
        },
        "trusted": true
      },
      "outputs": [],
      "source": [
        "X = boston_data.drop('MEDV', axis=1)\n",
        "y = boston_data.MEDV"
      ]
    },
    {
      "cell_type": "code",
      "execution_count": 7,
      "metadata": {
        "ExecuteTime": {
          "end_time": "2019-02-19T17:23:10.538982Z",
          "start_time": "2019-02-19T17:23:10.534325Z"
        },
        "trusted": true
      },
      "outputs": [],
      "source": [
        "kf = KFold(shuffle=True, random_state=72018, n_splits=3)"
      ]
    },
    {
      "cell_type": "code",
      "execution_count": 8,
      "metadata": {
        "ExecuteTime": {
          "end_time": "2019-02-19T17:25:04.578536Z",
          "start_time": "2019-02-19T17:25:04.568959Z"
        },
        "scrolled": true,
        "trusted": true
      },
      "outputs": [
        {
          "name": "stdout",
          "output_type": "stream",
          "text": [
            "Train index: [ 1  3  4  5  7  8 10 11 12 13] 337\n",
            "Test index: [ 0  2  6  9 15 17 19 23 25 26] 169\n",
            "\n",
            "Train index: [ 0  2  6  9 10 11 12 13 15 17] 337\n",
            "Test index: [ 1  3  4  5  7  8 14 16 22 27] 169\n",
            "\n",
            "Train index: [0 1 2 3 4 5 6 7 8 9] 338\n",
            "Test index: [10 11 12 13 18 20 21 24 28 31] 168\n",
            "\n"
          ]
        }
      ],
      "source": [
        "for train_index, test_index in kf.split(X):\n",
        "    print(\"Train index:\", train_index[:10], len(train_index))\n",
        "    print(\"Test index:\",test_index[:10], len(test_index))\n",
        "    print('')"
      ]
    },
    {
      "cell_type": "code",
      "execution_count": 9,
      "metadata": {
        "ExecuteTime": {
          "end_time": "2019-02-19T17:28:10.441616Z",
          "start_time": "2019-02-19T17:28:10.204857Z"
        },
        "trusted": true
      },
      "outputs": [
        {
          "data": {
            "text/plain": [
              "[0.6719348798472724, 0.7485020059212373, 0.6976807323597793]"
            ]
          },
          "execution_count": 9,
          "metadata": {},
          "output_type": "execute_result"
        }
      ],
      "source": [
        "#from sklearn.metrics import r2_score, mean_squared_error\n",
        "\n",
        "scores = []\n",
        "lr = LinearRegression()\n",
        "\n",
        "for train_index, test_index in kf.split(X):\n",
        "    X_train, X_test, y_train, y_test = (X.iloc[train_index, :], \n",
        "                                        X.iloc[test_index, :], \n",
        "                                        y[train_index], \n",
        "                                        y[test_index])\n",
        "    \n",
        "    lr.fit(X_train, y_train)\n",
        "        \n",
        "    y_pred = lr.predict(X_test)\n",
        "\n",
        "    score = r2_score(y_test.values, y_pred)\n",
        "    \n",
        "    scores.append(score)\n",
        "    \n",
        "scores"
      ]
    },
    {
      "attachments": {},
      "cell_type": "markdown",
      "metadata": {},
      "source": [
        "A bit cumbersome, but do-able.\n"
      ]
    },
    {
      "attachments": {},
      "cell_type": "markdown",
      "metadata": {},
      "source": [
        "### Discussion (Part 2): \n",
        "\n",
        "Now suppose we want to do the same, but appropriately scaling our data as we go through the folds.\n",
        "\n",
        "What would the steps be _now_?\n"
      ]
    },
    {
      "attachments": {},
      "cell_type": "markdown",
      "metadata": {},
      "source": [
        "**Your response below**\n"
      ]
    },
    {
      "attachments": {},
      "cell_type": "markdown",
      "metadata": {},
      "source": [
        "### Coding this up\n"
      ]
    },
    {
      "cell_type": "code",
      "execution_count": 10,
      "metadata": {
        "ExecuteTime": {
          "end_time": "2019-02-19T17:32:07.846336Z",
          "start_time": "2019-02-19T17:32:07.808810Z"
        },
        "trusted": true
      },
      "outputs": [],
      "source": [
        "scores = []\n",
        "\n",
        "lr = LinearRegression()\n",
        "s = StandardScaler()\n",
        "\n",
        "for train_index, test_index in kf.split(X):\n",
        "    X_train, X_test, y_train, y_test = (X.iloc[train_index, :], \n",
        "                                        X.iloc[test_index, :], \n",
        "                                        y[train_index], \n",
        "                                        y[test_index])\n",
        "    \n",
        "    X_train_s = s.fit_transform(X_train)\n",
        "    \n",
        "    lr.fit(X_train_s, y_train)\n",
        "    \n",
        "    X_test_s = s.transform(X_test)\n",
        "    \n",
        "    y_pred = lr.predict(X_test_s)\n",
        "\n",
        "    score = r2_score(y_test.values, y_pred)\n",
        "    \n",
        "    scores.append(score)"
      ]
    },
    {
      "cell_type": "code",
      "execution_count": 11,
      "metadata": {
        "ExecuteTime": {
          "end_time": "2019-02-19T17:32:09.978972Z",
          "start_time": "2019-02-19T17:32:09.974341Z"
        },
        "trusted": true
      },
      "outputs": [
        {
          "data": {
            "text/plain": [
              "[0.6719348798472715, 0.7485020059212382, 0.6976807323597745]"
            ]
          },
          "execution_count": 11,
          "metadata": {},
          "output_type": "execute_result"
        }
      ],
      "source": [
        "scores"
      ]
    },
    {
      "attachments": {},
      "cell_type": "markdown",
      "metadata": {},
      "source": [
        "(same scores, because for vanilla linear regression with no regularization, scaling actually doesn't matter for performance)\n"
      ]
    },
    {
      "attachments": {},
      "cell_type": "markdown",
      "metadata": {},
      "source": [
        "This is getting quite cumbersome! \n",
        "\n",
        "_Very_ luckily, SciKit Learn has some wonderful functions that handle a lot of this for us.\n"
      ]
    },
    {
      "attachments": {},
      "cell_type": "markdown",
      "metadata": {},
      "source": [
        "### `Pipeline` and `cross_val_predict`\n"
      ]
    },
    {
      "attachments": {},
      "cell_type": "markdown",
      "metadata": {},
      "source": [
        "`Pipeline` lets you chain together multiple operators on your data that both have a `fit` method.\n"
      ]
    },
    {
      "cell_type": "code",
      "execution_count": 12,
      "metadata": {
        "ExecuteTime": {
          "end_time": "2019-02-19T17:33:28.695381Z",
          "start_time": "2019-02-19T17:33:28.691865Z"
        },
        "trusted": true
      },
      "outputs": [],
      "source": [
        "s = StandardScaler()\n",
        "lr = LinearRegression()"
      ]
    },
    {
      "attachments": {},
      "cell_type": "markdown",
      "metadata": {},
      "source": [
        "### Combine multiple processing steps into a `Pipeline`\n",
        "\n",
        "A pipeline contains a series of steps, where a step is (\"name of step\", actual_model). The \"name of step\" string is only used to help you identify which step you are on, and to allow you to specify parameters at that step.  \n"
      ]
    },
    {
      "cell_type": "code",
      "execution_count": 13,
      "metadata": {
        "ExecuteTime": {
          "end_time": "2019-02-19T17:33:32.657281Z",
          "start_time": "2019-02-19T17:33:32.653852Z"
        },
        "trusted": true
      },
      "outputs": [],
      "source": [
        "estimator = Pipeline([(\"scaler\", s),\n",
        "                      (\"regression\", lr)])"
      ]
    },
    {
      "attachments": {},
      "cell_type": "markdown",
      "metadata": {},
      "source": [
        "### `cross_val_predict`\n",
        "\n",
        "[`cross_val_predict`](http://scikit-learn.org/stable/modules/generated/sklearn.model_selection.cross_val_predict.html?utm_medium=Exinfluencer&utm_source=Exinfluencer&utm_content=000026UJ&utm_term=10006555&utm_id=NA-SkillsNetwork-Channel-SkillsNetworkCoursesIBMML240ENSkillsNetwork783-2023-01-01) is a function that does K-fold cross validation for us, appropriately fitting and transforming at every step of the way.\n"
      ]
    },
    {
      "cell_type": "code",
      "execution_count": 14,
      "metadata": {
        "trusted": true
      },
      "outputs": [
        {
          "data": {
            "text/plain": [
              "KFold(n_splits=3, random_state=72018, shuffle=True)"
            ]
          },
          "execution_count": 14,
          "metadata": {},
          "output_type": "execute_result"
        }
      ],
      "source": [
        "kf"
      ]
    },
    {
      "cell_type": "code",
      "execution_count": 15,
      "metadata": {
        "ExecuteTime": {
          "end_time": "2019-02-19T17:35:55.255356Z",
          "start_time": "2019-02-19T17:35:55.240376Z"
        },
        "trusted": true
      },
      "outputs": [],
      "source": [
        "predictions = cross_val_predict(estimator, X, y, cv=kf)"
      ]
    },
    {
      "cell_type": "code",
      "execution_count": 16,
      "metadata": {
        "ExecuteTime": {
          "end_time": "2019-02-19T17:36:03.801732Z",
          "start_time": "2019-02-19T17:36:03.796646Z"
        },
        "scrolled": true,
        "trusted": true
      },
      "outputs": [
        {
          "data": {
            "text/plain": [
              "0.706353106416156"
            ]
          },
          "execution_count": 16,
          "metadata": {},
          "output_type": "execute_result"
        }
      ],
      "source": [
        "r2_score(y, predictions)"
      ]
    },
    {
      "cell_type": "code",
      "execution_count": 17,
      "metadata": {
        "ExecuteTime": {
          "end_time": "2019-02-19T17:36:19.831481Z",
          "start_time": "2019-02-19T17:36:19.827131Z"
        },
        "trusted": true
      },
      "outputs": [
        {
          "data": {
            "text/plain": [
              "0.7060392060427615"
            ]
          },
          "execution_count": 17,
          "metadata": {},
          "output_type": "execute_result"
        }
      ],
      "source": [
        "np.mean(scores) # almost identical!"
      ]
    },
    {
      "attachments": {},
      "cell_type": "markdown",
      "metadata": {},
      "source": [
        "Note that `cross_val_predict` doesn't use the same model for all steps; the predictions for each row are made when that row is in the validation set. We really have the collected results of 3 (i.e. `kf.num_splits`) different models. \n",
        "\n",
        "When we are done, `estimator` is still not fitted. If we want to predict on _new_ data, we still have to train our `estimator`. \n"
      ]
    },
    {
      "attachments": {},
      "cell_type": "markdown",
      "metadata": {},
      "source": [
        "## Hyperparameter tuning\n"
      ]
    },
    {
      "attachments": {},
      "cell_type": "markdown",
      "metadata": {},
      "source": [
        "### Definition\n",
        "\n",
        "**Hyperparameter tuning** involves using cross validation (or train-test split) to determine which hyperparameters are most likely to generate a model that _generalizes_ well outside of your sample.\n",
        "\n",
        "### Mechanics\n",
        "\n",
        "We can generate an exponentially spaces range of values using the numpy [`geomspace`](https://docs.scipy.org/doc/numpy/reference/generated/numpy.geomspace.html?utm_medium=Exinfluencer&utm_source=Exinfluencer&utm_content=000026UJ&utm_term=10006555&utm_id=NA-SkillsNetwork-Channel-SkillsNetworkCoursesIBMML240ENSkillsNetwork783-2023-01-01#numpy.geomspace) function.\n",
        "\n",
        "```python\n",
        "np.geomspace(1, 1000, num=4)\n",
        "```\n",
        "\n",
        "produces:\n",
        "\n",
        "```\n",
        "array([    1.,    10.,   100.,  1000.])\n",
        "```\n",
        "\n",
        "Use this function to generate a list of length 10 called `alphas` for hyperparameter tuning:\n"
      ]
    },
    {
      "cell_type": "code",
      "execution_count": 19,
      "metadata": {
        "ExecuteTime": {
          "end_time": "2019-02-19T17:40:36.220744Z",
          "start_time": "2019-02-19T17:40:36.214714Z"
        },
        "trusted": true
      },
      "outputs": [
        {
          "data": {
            "text/plain": [
              "array([1.e-09, 1.e-08, 1.e-07, 1.e-06, 1.e-05, 1.e-04, 1.e-03, 1.e-02,\n",
              "       1.e-01, 1.e+00])"
            ]
          },
          "execution_count": 19,
          "metadata": {},
          "output_type": "execute_result"
        }
      ],
      "source": [
        "alphas = np.geomspace(1e-9, 1e0, num=10)\n",
        "alphas"
      ]
    },
    {
      "attachments": {},
      "cell_type": "markdown",
      "metadata": {},
      "source": [
        "The code below tunes the `alpha` hyperparameter for Lasso regression.\n"
      ]
    },
    {
      "cell_type": "code",
      "execution_count": 20,
      "metadata": {
        "ExecuteTime": {
          "end_time": "2019-02-19T17:47:34.947390Z",
          "start_time": "2019-02-19T17:47:34.845011Z"
        },
        "trusted": true
      },
      "outputs": [],
      "source": [
        "scores = []\n",
        "coefs = []\n",
        "for alpha in alphas:\n",
        "    las = Lasso(alpha=alpha, max_iter=100000)\n",
        "    \n",
        "    estimator = Pipeline([\n",
        "        (\"scaler\", s),\n",
        "        (\"lasso_regression\", las)])\n",
        "\n",
        "    predictions = cross_val_predict(estimator, X, y, cv = kf)\n",
        "    \n",
        "    score = r2_score(y, predictions)\n",
        "    \n",
        "    scores.append(score)"
      ]
    },
    {
      "cell_type": "code",
      "execution_count": 21,
      "metadata": {
        "ExecuteTime": {
          "end_time": "2019-02-19T17:47:35.397285Z",
          "start_time": "2019-02-19T17:47:35.390917Z"
        },
        "trusted": true
      },
      "outputs": [
        {
          "data": {
            "text/plain": [
              "[(1e-09, 0.7063531064981925),\n",
              " (1e-08, 0.7063531072356071),\n",
              " (1e-07, 0.7063531145602442),\n",
              " (1e-06, 0.7063531882052063),\n",
              " (1e-05, 0.7063539165191507),\n",
              " (0.0001, 0.706361268093463),\n",
              " (0.001, 0.706433467041546),\n",
              " (0.01, 0.7070865958083233),\n",
              " (0.1, 0.705838151167185),\n",
              " (1.0, 0.6512724532884887)]"
            ]
          },
          "execution_count": 21,
          "metadata": {},
          "output_type": "execute_result"
        }
      ],
      "source": [
        "list(zip(alphas,scores))"
      ]
    },
    {
      "cell_type": "code",
      "execution_count": 24,
      "metadata": {
        "ExecuteTime": {
          "end_time": "2019-02-19T17:48:16.943881Z",
          "start_time": "2019-02-19T17:48:16.937741Z"
        },
        "trusted": true
      },
      "outputs": [
        {
          "data": {
            "text/plain": [
              "array([-1.07170372e-01,  4.63952623e-02,  2.08588308e-02,  2.68854318e+00,\n",
              "       -1.77954207e+01,  3.80475296e+00,  7.50802707e-04, -1.47575348e+00,\n",
              "        3.05654279e-01, -1.23293755e-02, -9.53459908e-01,  9.39253013e-03,\n",
              "       -5.25467196e-01])"
            ]
          },
          "execution_count": 24,
          "metadata": {},
          "output_type": "execute_result"
        }
      ],
      "source": [
        "Lasso(alpha=1e-6).fit(X, y).coef_"
      ]
    },
    {
      "cell_type": "code",
      "execution_count": 25,
      "metadata": {
        "ExecuteTime": {
          "end_time": "2019-02-19T17:48:40.778026Z",
          "start_time": "2019-02-19T17:48:40.771732Z"
        },
        "trusted": true
      },
      "outputs": [
        {
          "data": {
            "text/plain": [
              "array([-0.06342255,  0.04916867, -0.        ,  0.        , -0.        ,\n",
              "        0.94678567,  0.02092737, -0.66900864,  0.26417501, -0.01520915,\n",
              "       -0.72319901,  0.00829117, -0.76143296])"
            ]
          },
          "execution_count": 25,
          "metadata": {},
          "output_type": "execute_result"
        }
      ],
      "source": [
        "Lasso(alpha=1.0).fit(X, y).coef_"
      ]
    },
    {
      "cell_type": "code",
      "execution_count": 26,
      "metadata": {
        "ExecuteTime": {
          "end_time": "2019-02-19T17:46:03.208768Z",
          "start_time": "2019-02-19T17:46:02.898338Z"
        },
        "trusted": true
      },
      "outputs": [
        {
          "data": {
            "image/png": "[encoded data removed]",
            "text/plain": [
              "<Figure size 1000x600 with 1 Axes>"
            ]
          },
          "metadata": {},
          "output_type": "display_data"
        }
      ],
      "source": [
        "plt.figure(figsize=(10,6))\n",
        "plt.semilogx(alphas, scores, '-o')\n",
        "plt.xlabel('$\\\\alpha$')\n",
        "plt.ylabel('$R^2$');"
      ]
    },
    {
      "attachments": {},
      "cell_type": "markdown",
      "metadata": {},
      "source": [
        "### Exercise\n",
        "\n",
        "Add `PolynomialFeatures` to this `Pipeline`, and re-run the cross validation with the `PolynomialFeatures` added.\n",
        "\n",
        "**Hint #1:** pipelines process input from first to last. Think about the order that it would make sense to add Polynomial Features to the data in sequence and add them in the appropriate place in the pipeline.\n",
        "\n",
        "**Hint #2:** you should see a significant increase in cross validation accuracy from doing this\n"
      ]
    },
    {
      "cell_type": "code",
      "execution_count": 34,
      "metadata": {
        "ExecuteTime": {
          "end_time": "2019-02-19T17:56:02.883875Z",
          "start_time": "2019-02-19T17:56:00.477593Z"
        },
        "trusted": true
      },
      "outputs": [],
      "source": [
        "pf = PolynomialFeatures(degree=3)\n",
        "\n",
        "scores = []\n",
        "alphas = np.geomspace(0.001, 10, 20)\n",
        "for alpha in alphas:\n",
        "    las = Lasso(alpha=alpha, max_iter=100000)\n",
        "    \n",
        "    estimator = Pipeline([\n",
        "        (\"make_higher_degree\", pf),\n",
        "        (\"scaler\", s),\n",
        "        (\"lasso_regression\", las)])\n",
        "\n",
        "    predictions = cross_val_predict(estimator, X, y, cv = kf)\n",
        "    \n",
        "    score = r2_score(y, predictions)\n",
        "    \n",
        "    scores.append(score)\n",
        "    "
      ]
    },
    {
      "attachments": {},
      "cell_type": "markdown",
      "metadata": {},
      "source": [
        "If you store the results in a list called `scores`, the following will work:\n"
      ]
    },
    {
      "cell_type": "code",
      "execution_count": 42,
      "metadata": {
        "ExecuteTime": {
          "end_time": "2019-02-19T17:56:05.154628Z",
          "start_time": "2019-02-19T17:56:04.987932Z"
        },
        "trusted": true
      },
      "outputs": [
        {
          "name": "stdout",
          "output_type": "stream",
          "text": [
            "[(0.001, 0.7697086980421659), (0.001623776739188721, 0.8113864255427393), (0.0026366508987303583, 0.8330315990311022), (0.004281332398719396, 0.8418443126411171), (0.0069519279617756054, 0.8572897964774315), (0.011288378916846888, 0.8586572596119993), (0.018329807108324356, 0.8514102510794362), (0.029763514416313176, 0.8449948632952947), (0.04832930238571752, 0.8404157598443561), (0.07847599703514611, 0.8323238059189311), (0.12742749857031335, 0.8227777072888234), (0.20691380811147903, 0.8102247010804577), (0.3359818286283781, 0.7976127253422829), (0.5455594781168515, 0.777834525841873), (0.8858667904100823, 0.741935387371764), (1.438449888287663, 0.7060263877769063), (2.3357214690901213, 0.6495025701628127), (3.792690190732246, 0.5032386026452265), (6.158482110660261, 0.128556147857821), (10.0, -0.000616160136140298)]\n"
          ]
        }
      ],
      "source": [
        "print([(a,b) for a,b in zip(alphas,scores)])\n",
        "# plt.semilogx(alphas, scores)"
      ]
    },
    {
      "cell_type": "code",
      "execution_count": 44,
      "metadata": {
        "ExecuteTime": {
          "end_time": "2019-02-19T17:56:40.051147Z",
          "start_time": "2019-02-19T17:56:40.009641Z"
        },
        "trusted": true
      },
      "outputs": [
        {
          "data": {
            "text/plain": [
              "0.9363400355181439"
            ]
          },
          "execution_count": 44,
          "metadata": {},
          "output_type": "execute_result"
        }
      ],
      "source": [
        "# Once we have found the hyperparameter (alpha~1e-2=0.01)\n",
        "# make the model and train it on ALL the data\n",
        "# Then release it into the wild .....\n",
        "best_estimator = Pipeline([\n",
        "                    (\"make_higher_degree\", PolynomialFeatures(degree=3)),\n",
        "                    (\"scaler\", s),\n",
        "                    (\"lasso_regression\", Lasso(alpha=0.01))])\n",
        "\n",
        "best_estimator.fit(X, y)\n",
        "best_estimator.score(X, y)"
      ]
    },
    {
      "cell_type": "code",
      "execution_count": 38,
      "metadata": {
        "ExecuteTime": {
          "end_time": "2019-02-19T17:56:51.526585Z",
          "start_time": "2019-02-19T17:56:51.521094Z"
        },
        "trusted": true
      },
      "outputs": [
        {
          "data": {
            "text/plain": [
              "array([ 0.00000000e+00, -0.00000000e+00, -3.82985461e+00,  3.48014576e+00,\n",
              "        4.05748586e+00,  3.45173893e-01,  2.08468944e+00,  1.60991201e+00,\n",
              "       -1.75204581e+00,  0.00000000e+00,  0.00000000e+00,  0.00000000e+00,\n",
              "        2.60862339e+00,  0.00000000e+00,  1.01639298e+00,  7.51603355e-02,\n",
              "       -0.00000000e+00,  2.32329150e+00, -6.67658168e-01, -0.00000000e+00,\n",
              "       -0.00000000e+00, -7.25136540e-01, -9.62698698e-01, -0.00000000e+00,\n",
              "       -0.00000000e+00, -4.80740000e-01,  3.04296783e-01,  2.81472433e-01,\n",
              "       -2.53696875e-01, -1.08689446e-01, -0.00000000e+00,  1.48188354e+00,\n",
              "       -0.00000000e+00, -0.00000000e+00, -4.52419731e-02,  1.96602697e+00,\n",
              "        1.21373976e+00,  0.00000000e+00, -8.12101771e-01,  1.52974702e+00,\n",
              "        0.00000000e+00,  0.00000000e+00, -0.00000000e+00,  1.42509055e+00,\n",
              "       -6.27762978e-01, -0.00000000e+00,  0.00000000e+00, -2.91005018e+00,\n",
              "        0.00000000e+00, -4.41676730e+00,  4.61305914e-01, -2.99708915e+00,\n",
              "       -4.35715157e+00,  6.63885993e-01,  8.42372802e-01, -1.18014595e+00,\n",
              "       -0.00000000e+00,  0.00000000e+00,  1.75218194e+00, -6.35860589e-01,\n",
              "       -0.00000000e+00, -4.26588189e-01, -1.73198264e-01, -0.00000000e+00,\n",
              "       -5.32413146e+00, -0.00000000e+00, -4.87265816e-01, -0.00000000e+00,\n",
              "        0.00000000e+00,  8.32541325e+00, -2.05838661e+00,  0.00000000e+00,\n",
              "       -4.51663867e+00, -7.48488326e+00, -3.47145713e+00,  3.15274974e-02,\n",
              "       -1.92853859e+00, -0.00000000e+00,  1.87325895e-01,  1.99887209e+00,\n",
              "        0.00000000e+00, -0.00000000e+00, -1.23410967e+00, -1.88244579e+00,\n",
              "        2.17080340e+00, -2.79509398e-04, -1.05975599e+00,  0.00000000e+00,\n",
              "       -2.34798978e+00,  1.00652219e+00, -2.29398871e-01,  1.06632022e+00,\n",
              "        1.32065076e+01,  0.00000000e+00, -4.45599355e+00,  0.00000000e+00,\n",
              "        7.14266634e+00,  0.00000000e+00, -2.44962418e-01,  0.00000000e+00,\n",
              "        5.61794074e-01,  0.00000000e+00, -3.16750314e-01, -1.34646262e+00,\n",
              "        5.46734183e+00])"
            ]
          },
          "execution_count": 38,
          "metadata": {},
          "output_type": "execute_result"
        }
      ],
      "source": [
        "best_estimator.named_steps[\"lasso_regression\"].coef_"
      ]
    },
    {
      "attachments": {},
      "cell_type": "markdown",
      "metadata": {},
      "source": [
        "### Exercise\n",
        "\n",
        "Do the same, but with `Ridge` regression \n",
        "\n",
        "Which model, `Ridge` or `Lasso`, performs best with its optimal hyperparameters on the Boston dataset?\n"
      ]
    },
    {
      "cell_type": "code",
      "execution_count": 85,
      "metadata": {
        "ExecuteTime": {
          "end_time": "2019-02-19T17:59:17.634414Z",
          "start_time": "2019-02-19T17:59:17.238684Z"
        },
        "trusted": true
      },
      "outputs": [
        {
          "data": {
            "image/png": "[encoded data removed]",
            "text/plain": [
              "<Figure size 640x480 with 1 Axes>"
            ]
          },
          "metadata": {},
          "output_type": "display_data"
        }
      ],
      "source": [
        "dg = 2\n",
        "pf = PolynomialFeatures(degree=dg,include_bias=False)\n",
        "alphas = np.geomspace(0.1, 20, 20)\n",
        "scores1=[]\n",
        "scores2=[]\n",
        "for alpha in alphas:\n",
        "    ridge = Ridge(alpha=alpha, max_iter=100000)\n",
        "\n",
        "    estimator1 = Pipeline([\n",
        "        (\"polynomial_features\", pf),\n",
        "        (\"scaler\", s),\n",
        "        (\"ridge_regression\", ridge)])\n",
        "    \n",
        "    estimator2 = Pipeline([\n",
        "        (\"scaler\", s),\n",
        "        (\"polynomial_features\", pf),\n",
        "        (\"ridge_regression\", ridge)])\n",
        "\n",
        "    predictions1 = cross_val_predict(estimator1, X, y, cv = kf)\n",
        "    predictions2 = cross_val_predict(estimator2, X, y, cv = kf)\n",
        "    scores1.append(r2_score(y, predictions1))\n",
        "    scores2.append(r2_score(y, predictions2))\n",
        "\n",
        "plt.plot(alphas, scores1)\n",
        "plt.plot(alphas, scores2)\n",
        "plt.show()"
      ]
    },
    {
      "cell_type": "code",
      "execution_count": 88,
      "metadata": {},
      "outputs": [
        {
          "data": {
            "text/plain": [
              "[0.9140413195349004, 0.914927143693965]"
            ]
          },
          "execution_count": 88,
          "metadata": {},
          "output_type": "execute_result"
        }
      ],
      "source": [
        "# Once we have found the hyperparameter (alpha~1e-2=0.01)\n",
        "# make the model and train it on ALL the data\n",
        "# Then release it into the wild .....\n",
        "best_estimator1 = Pipeline([\n",
        "                    (\"make_higher_degree\", PolynomialFeatures(degree=dg,include_bias=False)),\n",
        "                    (\"scaler\", s),\n",
        "                    (\"lasso_regression\",  Ridge(alpha=alphas[np.argmax(scores1)], max_iter=100000))])\n",
        "\n",
        "best_estimator2 = Pipeline([\n",
        "                    (\"scaler\", s),\n",
        "                    (\"make_higher_degree\", PolynomialFeatures(degree=dg,include_bias=False)),\n",
        "                    (\"lasso_regression\",  Ridge(alpha=alphas[np.argmax(scores2)], max_iter=100000))])\n",
        "\n",
        "best_estimator1.fit(X, y)\n",
        "sc1 = best_estimator1.score(X, y)\n",
        "best_estimator2.fit(X, y)\n",
        "sc2 = best_estimator2.score(X, y)\n",
        "[sc1,sc2]\n"
      ]
    },
    {
      "attachments": {},
      "cell_type": "markdown",
      "metadata": {},
      "source": [
        "**Conclusion:** Both Lasso and Ridge with proper hyperparameter tuning give better results than plain ol' Linear Regression!\n"
      ]
    },
    {
      "attachments": {},
      "cell_type": "markdown",
      "metadata": {},
      "source": [
        "### Exercise:\n"
      ]
    },
    {
      "attachments": {},
      "cell_type": "markdown",
      "metadata": {},
      "source": [
        "Now, for whatever your best overall hyperparameter was: \n",
        "\n",
        "* Standardize the data\n",
        "* Fit and predict on the entire dataset\n",
        "* See what the largest coefficients were\n",
        "    * Hint: use \n",
        "    ```python\n",
        "    dict(zip(model.coef_, pf.get_feature_names()))\n",
        "    ```\n",
        "    for your model `model` to get the feature names from `PolynomialFeatures`.\n",
        "    \n",
        "    Then, use\n",
        "    ```python\n",
        "    dict(zip(list(range(len(X.columns.values))), X.columns.values))\n",
        "    ```\n",
        "    \n",
        "    to see which features in the `PolynomialFeatures` DataFrame correspond to which columns in the original DataFrame.\n"
      ]
    },
    {
      "cell_type": "code",
      "execution_count": 98,
      "metadata": {
        "trusted": true
      },
      "outputs": [],
      "source": [
        "col_names_dict = dict(zip(list(range(len(X.columns.values))), X.columns.values))"
      ]
    },
    {
      "cell_type": "code",
      "execution_count": 99,
      "metadata": {
        "trusted": true
      },
      "outputs": [
        {
          "data": {
            "text/plain": [
              "{0: 'CRIM',\n",
              " 1: 'ZN',\n",
              " 2: 'INDUS',\n",
              " 3: 'CHAS',\n",
              " 4: 'NOX',\n",
              " 5: 'RM',\n",
              " 6: 'AGE',\n",
              " 7: 'DIS',\n",
              " 8: 'RAD',\n",
              " 9: 'TAX',\n",
              " 10: 'PTRATIO',\n",
              " 11: 'B',\n",
              " 12: 'LSTAT'}"
            ]
          },
          "execution_count": 99,
          "metadata": {},
          "output_type": "execute_result"
        }
      ],
      "source": [
        "col_names_dict"
      ]
    },
    {
      "attachments": {},
      "cell_type": "markdown",
      "metadata": {},
      "source": [
        "## Grid Search CV\n"
      ]
    },
    {
      "attachments": {},
      "cell_type": "markdown",
      "metadata": {},
      "source": [
        "To do cross-validation, we used two techniques:\n",
        "- use `KFolds` and manually create a loop to do cross-validation\n",
        "- use `cross_val_predict` and `score` to get a cross-valiated score in a couple of lines.\n",
        "\n",
        "To do hyper-parameter tuning, we see a general pattern:\n",
        "- use `cross_val_predict` and `score` in a manually written loop over hyperparemeters, then select the best one.\n",
        "\n",
        "Perhaps not surprisingly, there is a function that does this for us -- `GridSearchCV`\n"
      ]
    },
    {
      "cell_type": "code",
      "execution_count": 143,
      "metadata": {
        "ExecuteTime": {
          "end_time": "2019-02-19T18:02:31.945804Z",
          "start_time": "2019-02-19T18:02:31.938416Z"
        },
        "trusted": true
      },
      "outputs": [],
      "source": [
        "from sklearn.model_selection import GridSearchCV\n",
        "\n",
        "# Same estimator as before\n",
        "estimator = Pipeline([\n",
        "        (\"polynomial_features\", PolynomialFeatures(include_bias=False)),\n",
        "        (\"scaler\", StandardScaler()),\n",
        "        (\"ridge_regression\", Ridge())])\n",
        "\n",
        "params = {\n",
        "    'polynomial_features__degree': [1, 2, 3],\n",
        "    'ridge_regression__alpha': np.geomspace(0.01, 20, 30)\n",
        "}\n",
        "\n",
        "grid = GridSearchCV(estimator, params, cv=kf)"
      ]
    },
    {
      "cell_type": "code",
      "execution_count": 144,
      "metadata": {
        "ExecuteTime": {
          "end_time": "2019-02-19T18:02:49.319148Z",
          "start_time": "2019-02-19T18:02:46.093880Z"
        },
        "trusted": true
      },
      "outputs": [
        {
          "data": {
            "text/html": [
              "<style>#sk-container-id-13 {color: black;background-color: white;}#sk-container-id-13 pre{padding: 0;}#sk-container-id-13 div.sk-toggleable {background-color: white;}#sk-container-id-13 label.sk-toggleable__label {cursor: pointer;display: block;width: 100%;margin-bottom: 0;padding: 0.3em;box-sizing: border-box;text-align: center;}#sk-container-id-13 label.sk-toggleable__label-arrow:before {content: \"▸\";float: left;margin-right: 0.25em;color: #696969;}#sk-container-id-13 label.sk-toggleable__label-arrow:hover:before {color: black;}#sk-container-id-13 div.sk-estimator:hover label.sk-toggleable__label-arrow:before {color: black;}#sk-container-id-13 div.sk-toggleable__content {max-height: 0;max-width: 0;overflow: hidden;text-align: left;background-color: #f0f8ff;}#sk-container-id-13 div.sk-toggleable__content pre {margin: 0.2em;color: black;border-radius: 0.25em;background-color: #f0f8ff;}#sk-container-id-13 input.sk-toggleable__control:checked~div.sk-toggleable__content {max-height: 200px;max-width: 100%;overflow: auto;}#sk-container-id-13 input.sk-toggleable__control:checked~label.sk-toggleable__label-arrow:before {content: \"▾\";}#sk-container-id-13 div.sk-estimator input.sk-toggleable__control:checked~label.sk-toggleable__label {background-color: #d4ebff;}#sk-container-id-13 div.sk-label input.sk-toggleable__control:checked~label.sk-toggleable__label {background-color: #d4ebff;}#sk-container-id-13 input.sk-hidden--visually {border: 0;clip: rect(1px 1px 1px 1px);clip: rect(1px, 1px, 1px, 1px);height: 1px;margin: -1px;overflow: hidden;padding: 0;position: absolute;width: 1px;}#sk-container-id-13 div.sk-estimator {font-family: monospace;background-color: #f0f8ff;border: 1px dotted black;border-radius: 0.25em;box-sizing: border-box;margin-bottom: 0.5em;}#sk-container-id-13 div.sk-estimator:hover {background-color: #d4ebff;}#sk-container-id-13 div.sk-parallel-item::after {content: \"\";width: 100%;border-bottom: 1px solid gray;flex-grow: 1;}#sk-container-id-13 div.sk-label:hover label.sk-toggleable__label {background-color: #d4ebff;}#sk-container-id-13 div.sk-serial::before {content: \"\";position: absolute;border-left: 1px solid gray;box-sizing: border-box;top: 0;bottom: 0;left: 50%;z-index: 0;}#sk-container-id-13 div.sk-serial {display: flex;flex-direction: column;align-items: center;background-color: white;padding-right: 0.2em;padding-left: 0.2em;position: relative;}#sk-container-id-13 div.sk-item {position: relative;z-index: 1;}#sk-container-id-13 div.sk-parallel {display: flex;align-items: stretch;justify-content: center;background-color: white;position: relative;}#sk-container-id-13 div.sk-item::before, #sk-container-id-13 div.sk-parallel-item::before {content: \"\";position: absolute;border-left: 1px solid gray;box-sizing: border-box;top: 0;bottom: 0;left: 50%;z-index: -1;}#sk-container-id-13 div.sk-parallel-item {display: flex;flex-direction: column;z-index: 1;position: relative;background-color: white;}#sk-container-id-13 div.sk-parallel-item:first-child::after {align-self: flex-end;width: 50%;}#sk-container-id-13 div.sk-parallel-item:last-child::after {align-self: flex-start;width: 50%;}#sk-container-id-13 div.sk-parallel-item:only-child::after {width: 0;}#sk-container-id-13 div.sk-dashed-wrapped {border: 1px dashed gray;margin: 0 0.4em 0.5em 0.4em;box-sizing: border-box;padding-bottom: 0.4em;background-color: white;}#sk-container-id-13 div.sk-label label {font-family: monospace;font-weight: bold;display: inline-block;line-height: 1.2em;}#sk-container-id-13 div.sk-label-container {text-align: center;}#sk-container-id-13 div.sk-container {/* jupyter's `normalize.less` sets `[hidden] { display: none; }` but bootstrap.min.css set `[hidden] { display: none !important; }` so we also need the `!important` here to be able to override the default hidden behavior on the sphinx rendered scikit-learn.org. See: https://github.com/scikit-learn/scikit-learn/issues/21755 */display: inline-block !important;position: relative;}#sk-container-id-13 div.sk-text-repr-fallback {display: none;}</style><div id=\"sk-container-id-13\" class=\"sk-top-container\"><div class=\"sk-text-repr-fallback\"><pre>GridSearchCV(cv=KFold(n_splits=3, random_state=72018, shuffle=True),\n",
              "             estimator=Pipeline(steps=[(&#x27;polynomial_features&#x27;,\n",
              "                                        PolynomialFeatures(include_bias=False)),\n",
              "                                       (&#x27;scaler&#x27;, StandardScaler()),\n",
              "                                       (&#x27;ridge_regression&#x27;, Ridge())]),\n",
              "             param_grid={&#x27;polynomial_features__degree&#x27;: [1, 2, 3],\n",
              "                         &#x27;ridge_regression__alpha&#x27;: array([1.00000000e-02, 1.29965661e-02, 1.68910731e-02, 2.195259...\n",
              "       2.85308350e-02, 3.70802883e-02, 4.81916419e-02, 6.26325861e-02,\n",
              "       8.14008546e-02, 1.05793159e-01, 1.37494778e-01, 1.78695998e-01,\n",
              "       2.32243435e-01, 3.01836716e-01, 3.92284084e-01, 5.09834603e-01,\n",
              "       6.62609913e-01, 8.61165354e-01, 1.11921925e+00, 1.45460069e+00,\n",
              "       1.89048141e+00, 2.45697666e+00, 3.19322596e+00, 4.15009724e+00,\n",
              "       5.39370131e+00, 7.00995958e+00, 9.11054031e+00, 1.18405740e+01,\n",
              "       1.53886802e+01, 2.00000000e+01])})</pre><b>In a Jupyter environment, please rerun this cell to show the HTML representation or trust the notebook. <br />On GitHub, the HTML representation is unable to render, please try loading this page with nbviewer.org.</b></div><div class=\"sk-container\" hidden><div class=\"sk-item sk-dashed-wrapped\"><div class=\"sk-label-container\"><div class=\"sk-label sk-toggleable\"><input class=\"sk-toggleable__control sk-hidden--visually\" id=\"sk-estimator-id-37\" type=\"checkbox\" ><label for=\"sk-estimator-id-37\" class=\"sk-toggleable__label sk-toggleable__label-arrow\">GridSearchCV</label><div class=\"sk-toggleable__content\"><pre>GridSearchCV(cv=KFold(n_splits=3, random_state=72018, shuffle=True),\n",
              "             estimator=Pipeline(steps=[(&#x27;polynomial_features&#x27;,\n",
              "                                        PolynomialFeatures(include_bias=False)),\n",
              "                                       (&#x27;scaler&#x27;, StandardScaler()),\n",
              "                                       (&#x27;ridge_regression&#x27;, Ridge())]),\n",
              "             param_grid={&#x27;polynomial_features__degree&#x27;: [1, 2, 3],\n",
              "                         &#x27;ridge_regression__alpha&#x27;: array([1.00000000e-02, 1.29965661e-02, 1.68910731e-02, 2.195259...\n",
              "       2.85308350e-02, 3.70802883e-02, 4.81916419e-02, 6.26325861e-02,\n",
              "       8.14008546e-02, 1.05793159e-01, 1.37494778e-01, 1.78695998e-01,\n",
              "       2.32243435e-01, 3.01836716e-01, 3.92284084e-01, 5.09834603e-01,\n",
              "       6.62609913e-01, 8.61165354e-01, 1.11921925e+00, 1.45460069e+00,\n",
              "       1.89048141e+00, 2.45697666e+00, 3.19322596e+00, 4.15009724e+00,\n",
              "       5.39370131e+00, 7.00995958e+00, 9.11054031e+00, 1.18405740e+01,\n",
              "       1.53886802e+01, 2.00000000e+01])})</pre></div></div></div><div class=\"sk-parallel\"><div class=\"sk-parallel-item\"><div class=\"sk-item\"><div class=\"sk-label-container\"><div class=\"sk-label sk-toggleable\"><input class=\"sk-toggleable__control sk-hidden--visually\" id=\"sk-estimator-id-38\" type=\"checkbox\" ><label for=\"sk-estimator-id-38\" class=\"sk-toggleable__label sk-toggleable__label-arrow\">estimator: Pipeline</label><div class=\"sk-toggleable__content\"><pre>Pipeline(steps=[(&#x27;polynomial_features&#x27;, PolynomialFeatures(include_bias=False)),\n",
              "                (&#x27;scaler&#x27;, StandardScaler()), (&#x27;ridge_regression&#x27;, Ridge())])</pre></div></div></div><div class=\"sk-serial\"><div class=\"sk-item\"><div class=\"sk-serial\"><div class=\"sk-item\"><div class=\"sk-estimator sk-toggleable\"><input class=\"sk-toggleable__control sk-hidden--visually\" id=\"sk-estimator-id-39\" type=\"checkbox\" ><label for=\"sk-estimator-id-39\" class=\"sk-toggleable__label sk-toggleable__label-arrow\">PolynomialFeatures</label><div class=\"sk-toggleable__content\"><pre>PolynomialFeatures(include_bias=False)</pre></div></div></div><div class=\"sk-item\"><div class=\"sk-estimator sk-toggleable\"><input class=\"sk-toggleable__control sk-hidden--visually\" id=\"sk-estimator-id-40\" type=\"checkbox\" ><label for=\"sk-estimator-id-40\" class=\"sk-toggleable__label sk-toggleable__label-arrow\">StandardScaler</label><div class=\"sk-toggleable__content\"><pre>StandardScaler()</pre></div></div></div><div class=\"sk-item\"><div class=\"sk-estimator sk-toggleable\"><input class=\"sk-toggleable__control sk-hidden--visually\" id=\"sk-estimator-id-41\" type=\"checkbox\" ><label for=\"sk-estimator-id-41\" class=\"sk-toggleable__label sk-toggleable__label-arrow\">Ridge</label><div class=\"sk-toggleable__content\"><pre>Ridge()</pre></div></div></div></div></div></div></div></div></div></div></div></div>"
            ],
            "text/plain": [
              "GridSearchCV(cv=KFold(n_splits=3, random_state=72018, shuffle=True),\n",
              "             estimator=Pipeline(steps=[('polynomial_features',\n",
              "                                        PolynomialFeatures(include_bias=False)),\n",
              "                                       ('scaler', StandardScaler()),\n",
              "                                       ('ridge_regression', Ridge())]),\n",
              "             param_grid={'polynomial_features__degree': [1, 2, 3],\n",
              "                         'ridge_regression__alpha': array([1.00000000e-02, 1.29965661e-02, 1.68910731e-02, 2.195259...\n",
              "       2.85308350e-02, 3.70802883e-02, 4.81916419e-02, 6.26325861e-02,\n",
              "       8.14008546e-02, 1.05793159e-01, 1.37494778e-01, 1.78695998e-01,\n",
              "       2.32243435e-01, 3.01836716e-01, 3.92284084e-01, 5.09834603e-01,\n",
              "       6.62609913e-01, 8.61165354e-01, 1.11921925e+00, 1.45460069e+00,\n",
              "       1.89048141e+00, 2.45697666e+00, 3.19322596e+00, 4.15009724e+00,\n",
              "       5.39370131e+00, 7.00995958e+00, 9.11054031e+00, 1.18405740e+01,\n",
              "       1.53886802e+01, 2.00000000e+01])})"
            ]
          },
          "execution_count": 144,
          "metadata": {},
          "output_type": "execute_result"
        }
      ],
      "source": [
        "grid.fit(X, y)"
      ]
    },
    {
      "cell_type": "code",
      "execution_count": 145,
      "metadata": {
        "ExecuteTime": {
          "end_time": "2019-02-19T18:03:07.016198Z",
          "start_time": "2019-02-19T18:03:07.010215Z"
        },
        "trusted": true
      },
      "outputs": [
        {
          "data": {
            "text/plain": [
              "(0.8615422686525273,\n",
              " {'polynomial_features__degree': 2,\n",
              "  'ridge_regression__alpha': 0.8611653540218431})"
            ]
          },
          "execution_count": 145,
          "metadata": {},
          "output_type": "execute_result"
        }
      ],
      "source": [
        "grid.best_score_, grid.best_params_"
      ]
    },
    {
      "cell_type": "code",
      "execution_count": 146,
      "metadata": {
        "ExecuteTime": {
          "end_time": "2019-02-19T18:03:31.735568Z",
          "start_time": "2019-02-19T18:03:31.728658Z"
        },
        "trusted": true
      },
      "outputs": [],
      "source": [
        "y_predict = grid.predict(X)"
      ]
    },
    {
      "cell_type": "code",
      "execution_count": 147,
      "metadata": {
        "ExecuteTime": {
          "end_time": "2019-02-19T18:04:17.838943Z",
          "start_time": "2019-02-19T18:04:17.832872Z"
        },
        "trusted": true
      },
      "outputs": [
        {
          "data": {
            "text/plain": [
              "0.9124864093950663"
            ]
          },
          "execution_count": 147,
          "metadata": {},
          "output_type": "execute_result"
        }
      ],
      "source": [
        "# This includes both in-sample and out-of-sample\n",
        "r2_score(y, y_predict)"
      ]
    },
    {
      "cell_type": "code",
      "execution_count": 148,
      "metadata": {},
      "outputs": [
        {
          "data": {
            "text/html": [
              "<div>\n",
              "<style scoped>\n",
              "    .dataframe tbody tr th:only-of-type {\n",
              "        vertical-align: middle;\n",
              "    }\n",
              "\n",
              "    .dataframe tbody tr th {\n",
              "        vertical-align: top;\n",
              "    }\n",
              "\n",
              "    .dataframe thead th {\n",
              "        text-align: right;\n",
              "    }\n",
              "</style>\n",
              "<table border=\"1\" class=\"dataframe\">\n",
              "  <thead>\n",
              "    <tr style=\"text-align: right;\">\n",
              "      <th></th>\n",
              "      <th>0</th>\n",
              "      <th>1</th>\n",
              "    </tr>\n",
              "  </thead>\n",
              "  <tbody>\n",
              "    <tr>\n",
              "      <th>0</th>\n",
              "      <td>CRIM</td>\n",
              "      <td>0.255954</td>\n",
              "    </tr>\n",
              "    <tr>\n",
              "      <th>1</th>\n",
              "      <td>ZN</td>\n",
              "      <td>-2.484830</td>\n",
              "    </tr>\n",
              "    <tr>\n",
              "      <th>2</th>\n",
              "      <td>INDUS</td>\n",
              "      <td>0.075253</td>\n",
              "    </tr>\n",
              "    <tr>\n",
              "      <th>3</th>\n",
              "      <td>CHAS</td>\n",
              "      <td>2.601642</td>\n",
              "    </tr>\n",
              "    <tr>\n",
              "      <th>4</th>\n",
              "      <td>NOX</td>\n",
              "      <td>2.232097</td>\n",
              "    </tr>\n",
              "    <tr>\n",
              "      <th>...</th>\n",
              "      <td>...</td>\n",
              "      <td>...</td>\n",
              "    </tr>\n",
              "    <tr>\n",
              "      <th>99</th>\n",
              "      <td>PTRATIO B</td>\n",
              "      <td>1.171196</td>\n",
              "    </tr>\n",
              "    <tr>\n",
              "      <th>100</th>\n",
              "      <td>PTRATIO LSTAT</td>\n",
              "      <td>0.782383</td>\n",
              "    </tr>\n",
              "    <tr>\n",
              "      <th>101</th>\n",
              "      <td>B^2</td>\n",
              "      <td>-0.754451</td>\n",
              "    </tr>\n",
              "    <tr>\n",
              "      <th>102</th>\n",
              "      <td>B LSTAT</td>\n",
              "      <td>-1.313233</td>\n",
              "    </tr>\n",
              "    <tr>\n",
              "      <th>103</th>\n",
              "      <td>LSTAT^2</td>\n",
              "      <td>4.635998</td>\n",
              "    </tr>\n",
              "  </tbody>\n",
              "</table>\n",
              "<p>104 rows × 2 columns</p>\n",
              "</div>"
            ],
            "text/plain": [
              "                 0         1\n",
              "0             CRIM  0.255954\n",
              "1               ZN -2.484830\n",
              "2            INDUS  0.075253\n",
              "3             CHAS  2.601642\n",
              "4              NOX  2.232097\n",
              "..             ...       ...\n",
              "99       PTRATIO B  1.171196\n",
              "100  PTRATIO LSTAT  0.782383\n",
              "101            B^2 -0.754451\n",
              "102        B LSTAT -1.313233\n",
              "103        LSTAT^2  4.635998\n",
              "\n",
              "[104 rows x 2 columns]"
            ]
          },
          "execution_count": 148,
          "metadata": {},
          "output_type": "execute_result"
        }
      ],
      "source": [
        "plm = PolynomialFeatures(degree=grid.best_params_[\"polynomial_features__degree\"],include_bias=False)\n",
        "zz = plm.fit(X)\n",
        "nm = list(zz.get_feature_names_out())\n",
        "# for nome, vl in zip(nm,grid.best_estimator_.named_steps['ridge_regression'].coef_):\n",
        "#     print(nome,vl)\n",
        "\n",
        "P = pd.DataFrame(zip(nm,grid.best_estimator_.named_steps['ridge_regression'].coef_))\n",
        "P"
      ]
    },
    {
      "cell_type": "code",
      "execution_count": 149,
      "metadata": {
        "ExecuteTime": {
          "end_time": "2019-02-19T18:04:27.088854Z",
          "start_time": "2019-02-19T18:04:27.082915Z"
        },
        "trusted": true
      },
      "outputs": [
        {
          "data": {
            "text/plain": [
              "array([ 0.25595366, -2.48483025,  0.07525259,  2.60164197,  2.23209732,\n",
              "        5.63104266,  4.38730743, -5.16737408,  5.26350548,  2.30523463,\n",
              "        1.06957525,  3.16478163,  1.86354046,  1.3265927 ,  0.1144657 ,\n",
              "        1.20351254,  2.52478464, -2.59928478,  0.75693797, -1.46358626,\n",
              "       -0.79173727, -1.12850912, -0.15212237, -0.00844728, -0.48846589,\n",
              "        1.52376831,  0.75373985, -0.17915405, -0.15298371, -0.69757936,\n",
              "        1.46643337, -0.0603579 , -1.47421948, -0.32772883,  2.28189604,\n",
              "        1.69490513, -0.51749589, -0.81343525,  1.96545982,  0.13037551,\n",
              "        1.55118253, -1.0765729 ,  2.06660546, -0.17407501,  2.0306701 ,\n",
              "        2.04168384, -2.82877316,  0.4034243 , -3.96856474,  2.60164197,\n",
              "       -3.0376273 , -5.4378853 ,  1.06431938,  1.30759895, -1.43344051,\n",
              "       -0.25677369,  0.30540823,  1.53374867, -0.9914994 , -0.61150321,\n",
              "       -0.82993849, -2.20525148,  0.16981175, -1.67075588, -1.42122124,\n",
              "       -2.45452503,  0.13570632,  2.20859867,  6.0577049 , -2.55043087,\n",
              "        0.34675566, -3.68959307, -5.99422485, -4.97072614,  0.77074755,\n",
              "       -3.84567142,  0.21209577,  0.4182618 ,  3.5453847 , -0.75306567,\n",
              "        0.71389689, -3.42163637, -2.76949051,  4.7997451 , -0.06051889,\n",
              "       -1.33877834, -0.72741193, -1.74741286,  1.23710349, -3.23045328,\n",
              "        1.37614919,  4.27726213, -0.47012372, -3.83506528, -0.77343529,\n",
              "        5.15518405, -0.12983097, -3.01116501,  1.64680919,  1.17119644,\n",
              "        0.78238265, -0.75445121, -1.31323337,  4.63599793])"
            ]
          },
          "execution_count": 149,
          "metadata": {},
          "output_type": "execute_result"
        }
      ],
      "source": [
        "# Notice that \"grid\" is a fit object!\n",
        "# We can use grid.predict(X_test) to get brand new predictions!\n",
        "grid.best_estimator_.named_steps['ridge_regression'].coef_"
      ]
    },
    {
      "cell_type": "code",
      "execution_count": 151,
      "metadata": {
        "ExecuteTime": {
          "end_time": "2019-02-19T18:05:34.756588Z",
          "start_time": "2019-02-19T18:05:34.728508Z"
        },
        "trusted": true
      },
      "outputs": [
        {
          "data": {
            "text/plain": [
              "{'mean_fit_time': array([0.00558138, 0.00529051, 0.00468349, 0.00369906, 0.00356038,\n",
              "        0.00376296, 0.00384712, 0.00405836, 0.00431712, 0.00459162,\n",
              "        0.00465337, 0.00555182, 0.00460744, 0.00404954, 0.00455602,\n",
              "        0.00420809, 0.00425784, 0.00390196, 0.00444317, 0.00468445,\n",
              "        0.00467761, 0.00457128, 0.0047226 , 0.00471743, 0.0042549 ,\n",
              "        0.00486867, 0.00421778, 0.00393709, 0.00405002, 0.00480334,\n",
              "        0.00542045, 0.00530505, 0.00500973, 0.00523488, 0.00652973,\n",
              "        0.00555666, 0.00521572, 0.00519506, 0.00597652, 0.00553274,\n",
              "        0.00563375, 0.00564694, 0.00572856, 0.00699759, 0.00551478,\n",
              "        0.00614627, 0.00540121, 0.00584308, 0.00530926, 0.00538802,\n",
              "        0.00539303, 0.00504462, 0.00550993, 0.00601133, 0.00591731,\n",
              "        0.00535131, 0.00544214, 0.00527072, 0.00543308, 0.0051434 ,\n",
              "        0.01175499, 0.01272527, 0.01194008, 0.01111635, 0.01016593,\n",
              "        0.01051156, 0.01039561, 0.01192681, 0.01006897, 0.01098863,\n",
              "        0.00980997, 0.01115759, 0.01236542, 0.01183971, 0.01137797,\n",
              "        0.01137137, 0.01029539, 0.011307  , 0.01165001, 0.01006762,\n",
              "        0.01126695, 0.01041627, 0.0101796 , 0.01172535, 0.01191521,\n",
              "        0.01017372, 0.01014105, 0.01090328, 0.01005586, 0.01152198]),\n",
              " 'std_fit_time': array([6.68111850e-04, 3.59206266e-04, 5.55511401e-04, 8.04077630e-05,\n",
              "        9.53309334e-05, 2.25010642e-04, 3.01991994e-04, 2.49341687e-04,\n",
              "        4.78759401e-04, 6.32693623e-04, 1.19015648e-03, 9.86157597e-04,\n",
              "        3.00186381e-04, 2.18508254e-04, 5.83769123e-04, 5.16516597e-04,\n",
              "        9.15524867e-04, 1.46623743e-04, 5.09812405e-04, 8.13216125e-04,\n",
              "        6.45923127e-04, 7.79343045e-04, 8.38311481e-04, 3.09826286e-04,\n",
              "        4.84607109e-04, 1.04758192e-04, 4.02379573e-04, 4.30898489e-04,\n",
              "        4.65432801e-04, 1.00920130e-03, 4.83599985e-04, 4.23680526e-04,\n",
              "        3.72038032e-04, 2.45651702e-04, 7.02745232e-04, 5.08809392e-04,\n",
              "        3.50055764e-04, 3.91708802e-04, 4.20707011e-04, 6.71515088e-04,\n",
              "        7.05491878e-04, 8.93653285e-04, 8.15856936e-05, 1.52488792e-03,\n",
              "        3.78792494e-04, 3.48476102e-04, 6.27795743e-04, 9.56589502e-04,\n",
              "        6.37912967e-04, 5.34501168e-04, 4.94770312e-04, 2.99359969e-04,\n",
              "        9.54061277e-04, 8.84229880e-04, 7.51376016e-04, 7.75253636e-04,\n",
              "        5.19641630e-04, 3.92564136e-04, 5.47480115e-04, 4.67211648e-04,\n",
              "        1.93969401e-04, 1.18434384e-03, 3.02125000e-04, 9.22884051e-04,\n",
              "        7.32662350e-04, 1.86844462e-04, 5.93467772e-04, 1.24581952e-03,\n",
              "        5.05028607e-05, 4.68593965e-04, 1.84501272e-04, 3.14670758e-04,\n",
              "        1.34303771e-03, 1.06348763e-03, 6.39368526e-04, 6.47370705e-04,\n",
              "        4.27786053e-04, 1.33974220e-03, 8.49264835e-04, 5.63104150e-04,\n",
              "        1.16086671e-03, 1.61641584e-04, 4.85372656e-04, 6.19281457e-04,\n",
              "        4.26188176e-04, 3.68603674e-04, 4.08408838e-04, 3.05965845e-04,\n",
              "        3.30132364e-04, 5.13372480e-04]),\n",
              " 'mean_score_time': array([0.00221467, 0.00196934, 0.00174793, 0.00166217, 0.0017786 ,\n",
              "        0.00155997, 0.00163126, 0.0017767 , 0.00180292, 0.00183535,\n",
              "        0.00165264, 0.00225361, 0.00207726, 0.00207416, 0.00208624,\n",
              "        0.00194009, 0.00160845, 0.0018394 , 0.00178194, 0.00171002,\n",
              "        0.00174801, 0.00232776, 0.00180038, 0.00225329, 0.00180856,\n",
              "        0.00203816, 0.0016439 , 0.00186729, 0.00183868, 0.00188088,\n",
              "        0.00211151, 0.00196258, 0.00195106, 0.00256427, 0.00236464,\n",
              "        0.00227571, 0.00231576, 0.00234119, 0.00216277, 0.00205986,\n",
              "        0.00218089, 0.00214434, 0.00229271, 0.00638103, 0.00236932,\n",
              "        0.00214259, 0.00198913, 0.00209395, 0.00211271, 0.00246501,\n",
              "        0.00265773, 0.00215967, 0.00252239, 0.00217311, 0.00202807,\n",
              "        0.00198611, 0.00216055, 0.00207766, 0.00200065, 0.00204794,\n",
              "        0.00301878, 0.00326037, 0.00303475, 0.00308688, 0.00318106,\n",
              "        0.00299835, 0.00380262, 0.00425347, 0.00319441, 0.00300852,\n",
              "        0.00315269, 0.00301909, 0.00308792, 0.00299795, 0.00367069,\n",
              "        0.00459131, 0.0031906 , 0.00333238, 0.00331346, 0.00364995,\n",
              "        0.00291705, 0.00293144, 0.00344443, 0.00296775, 0.00309809,\n",
              "        0.00317939, 0.00298301, 0.00304373, 0.00320029, 0.00321134]),\n",
              " 'std_score_time': array([3.13932000e-04, 1.05253275e-04, 3.95153572e-05, 1.00157057e-04,\n",
              "        3.05003314e-04, 1.36142367e-05, 1.28541596e-04, 1.32224259e-04,\n",
              "        3.10560006e-04, 1.07498493e-04, 1.28311190e-04, 5.12857533e-04,\n",
              "        5.17346721e-04, 6.53697465e-04, 6.07545692e-04, 2.64706714e-04,\n",
              "        9.78803046e-05, 3.60236561e-04, 2.56729837e-04, 1.80761889e-05,\n",
              "        1.05136076e-04, 5.25262133e-04, 1.27156526e-04, 3.63060850e-04,\n",
              "        3.13986336e-04, 3.03360283e-04, 8.15189348e-05, 2.44323329e-04,\n",
              "        2.31237098e-04, 1.37578470e-04, 6.48318333e-05, 6.62318440e-05,\n",
              "        3.79009726e-05, 6.90811276e-04, 2.91407005e-04, 3.01247386e-04,\n",
              "        2.12781336e-04, 2.22142181e-04, 1.44541229e-04, 1.33148517e-04,\n",
              "        1.50427492e-04, 2.04102550e-04, 1.11865552e-04, 4.83847635e-03,\n",
              "        3.95773756e-04, 4.51769481e-05, 4.49227677e-05, 9.80402657e-05,\n",
              "        1.11666353e-04, 4.46383043e-04, 4.93767519e-04, 1.26527033e-04,\n",
              "        2.71304024e-04, 1.90520398e-04, 6.33602576e-05, 5.22625756e-05,\n",
              "        2.11852673e-04, 1.68409872e-04, 7.95080584e-05, 8.57470541e-05,\n",
              "        9.37855847e-05, 4.06238580e-04, 8.25686679e-05, 9.11977988e-05,\n",
              "        3.55939181e-04, 7.87650216e-05, 3.69603467e-04, 3.12013463e-04,\n",
              "        2.85157015e-04, 5.09741425e-05, 3.19588364e-04, 7.10759335e-05,\n",
              "        9.14451206e-05, 9.91011584e-05, 6.26112156e-04, 9.93543616e-05,\n",
              "        3.48317840e-04, 3.86700579e-04, 3.26653775e-04, 5.61668733e-04,\n",
              "        3.36505394e-05, 5.85731690e-06, 3.25657496e-04, 3.89269392e-05,\n",
              "        7.18903072e-05, 2.27641708e-04, 1.05139860e-04, 6.78993157e-05,\n",
              "        2.71829037e-04, 2.55814753e-04]),\n",
              " 'param_polynomial_features__degree': masked_array(data=[1, 1, 1, 1, 1, 1, 1, 1, 1, 1, 1, 1, 1, 1, 1, 1, 1, 1,\n",
              "                    1, 1, 1, 1, 1, 1, 1, 1, 1, 1, 1, 1, 2, 2, 2, 2, 2, 2,\n",
              "                    2, 2, 2, 2, 2, 2, 2, 2, 2, 2, 2, 2, 2, 2, 2, 2, 2, 2,\n",
              "                    2, 2, 2, 2, 2, 2, 3, 3, 3, 3, 3, 3, 3, 3, 3, 3, 3, 3,\n",
              "                    3, 3, 3, 3, 3, 3, 3, 3, 3, 3, 3, 3, 3, 3, 3, 3, 3, 3],\n",
              "              mask=[False, False, False, False, False, False, False, False,\n",
              "                    False, False, False, False, False, False, False, False,\n",
              "                    False, False, False, False, False, False, False, False,\n",
              "                    False, False, False, False, False, False, False, False,\n",
              "                    False, False, False, False, False, False, False, False,\n",
              "                    False, False, False, False, False, False, False, False,\n",
              "                    False, False, False, False, False, False, False, False,\n",
              "                    False, False, False, False, False, False, False, False,\n",
              "                    False, False, False, False, False, False, False, False,\n",
              "                    False, False, False, False, False, False, False, False,\n",
              "                    False, False, False, False, False, False, False, False,\n",
              "                    False, False],\n",
              "        fill_value='?',\n",
              "             dtype=object),\n",
              " 'param_ridge_regression__alpha': masked_array(data=[0.01, 0.012996566118076808, 0.016891073086154205,\n",
              "                    0.021952594816947082, 0.028530835000180298,\n",
              "                    0.03708028834837832, 0.048191641919705167,\n",
              "                    0.062632586054813, 0.08140085458075128,\n",
              "                    0.10579315886266893, 0.13749477839988802,\n",
              "                    0.17869599783644635, 0.23224343509170842,\n",
              "                    0.3018367159658668, 0.39228408359135575,\n",
              "                    0.5098346029464224, 0.6626099126476616,\n",
              "                    0.8611653540218431, 1.1192192462141906,\n",
              "                    1.4546006934046813, 1.8904814087234314,\n",
              "                    2.4569766623469063, 3.193225964276324,\n",
              "                    4.150097237467682, 5.3937013143196575,\n",
              "                    7.009959575271321, 9.110540310505934,\n",
              "                    11.840573951689437, 15.388680223910978, 20.0, 0.01,\n",
              "                    0.012996566118076808, 0.016891073086154205,\n",
              "                    0.021952594816947082, 0.028530835000180298,\n",
              "                    0.03708028834837832, 0.048191641919705167,\n",
              "                    0.062632586054813, 0.08140085458075128,\n",
              "                    0.10579315886266893, 0.13749477839988802,\n",
              "                    0.17869599783644635, 0.23224343509170842,\n",
              "                    0.3018367159658668, 0.39228408359135575,\n",
              "                    0.5098346029464224, 0.6626099126476616,\n",
              "                    0.8611653540218431, 1.1192192462141906,\n",
              "                    1.4546006934046813, 1.8904814087234314,\n",
              "                    2.4569766623469063, 3.193225964276324,\n",
              "                    4.150097237467682, 5.3937013143196575,\n",
              "                    7.009959575271321, 9.110540310505934,\n",
              "                    11.840573951689437, 15.388680223910978, 20.0, 0.01,\n",
              "                    0.012996566118076808, 0.016891073086154205,\n",
              "                    0.021952594816947082, 0.028530835000180298,\n",
              "                    0.03708028834837832, 0.048191641919705167,\n",
              "                    0.062632586054813, 0.08140085458075128,\n",
              "                    0.10579315886266893, 0.13749477839988802,\n",
              "                    0.17869599783644635, 0.23224343509170842,\n",
              "                    0.3018367159658668, 0.39228408359135575,\n",
              "                    0.5098346029464224, 0.6626099126476616,\n",
              "                    0.8611653540218431, 1.1192192462141906,\n",
              "                    1.4546006934046813, 1.8904814087234314,\n",
              "                    2.4569766623469063, 3.193225964276324,\n",
              "                    4.150097237467682, 5.3937013143196575,\n",
              "                    7.009959575271321, 9.110540310505934,\n",
              "                    11.840573951689437, 15.388680223910978, 20.0],\n",
              "              mask=[False, False, False, False, False, False, False, False,\n",
              "                    False, False, False, False, False, False, False, False,\n",
              "                    False, False, False, False, False, False, False, False,\n",
              "                    False, False, False, False, False, False, False, False,\n",
              "                    False, False, False, False, False, False, False, False,\n",
              "                    False, False, False, False, False, False, False, False,\n",
              "                    False, False, False, False, False, False, False, False,\n",
              "                    False, False, False, False, False, False, False, False,\n",
              "                    False, False, False, False, False, False, False, False,\n",
              "                    False, False, False, False, False, False, False, False,\n",
              "                    False, False, False, False, False, False, False, False,\n",
              "                    False, False],\n",
              "        fill_value='?',\n",
              "             dtype=object),\n",
              " 'params': [{'polynomial_features__degree': 1,\n",
              "   'ridge_regression__alpha': 0.01},\n",
              "  {'polynomial_features__degree': 1,\n",
              "   'ridge_regression__alpha': 0.012996566118076808},\n",
              "  {'polynomial_features__degree': 1,\n",
              "   'ridge_regression__alpha': 0.016891073086154205},\n",
              "  {'polynomial_features__degree': 1,\n",
              "   'ridge_regression__alpha': 0.021952594816947082},\n",
              "  {'polynomial_features__degree': 1,\n",
              "   'ridge_regression__alpha': 0.028530835000180298},\n",
              "  {'polynomial_features__degree': 1,\n",
              "   'ridge_regression__alpha': 0.03708028834837832},\n",
              "  {'polynomial_features__degree': 1,\n",
              "   'ridge_regression__alpha': 0.048191641919705167},\n",
              "  {'polynomial_features__degree': 1,\n",
              "   'ridge_regression__alpha': 0.062632586054813},\n",
              "  {'polynomial_features__degree': 1,\n",
              "   'ridge_regression__alpha': 0.08140085458075128},\n",
              "  {'polynomial_features__degree': 1,\n",
              "   'ridge_regression__alpha': 0.10579315886266893},\n",
              "  {'polynomial_features__degree': 1,\n",
              "   'ridge_regression__alpha': 0.13749477839988802},\n",
              "  {'polynomial_features__degree': 1,\n",
              "   'ridge_regression__alpha': 0.17869599783644635},\n",
              "  {'polynomial_features__degree': 1,\n",
              "   'ridge_regression__alpha': 0.23224343509170842},\n",
              "  {'polynomial_features__degree': 1,\n",
              "   'ridge_regression__alpha': 0.3018367159658668},\n",
              "  {'polynomial_features__degree': 1,\n",
              "   'ridge_regression__alpha': 0.39228408359135575},\n",
              "  {'polynomial_features__degree': 1,\n",
              "   'ridge_regression__alpha': 0.5098346029464224},\n",
              "  {'polynomial_features__degree': 1,\n",
              "   'ridge_regression__alpha': 0.6626099126476616},\n",
              "  {'polynomial_features__degree': 1,\n",
              "   'ridge_regression__alpha': 0.8611653540218431},\n",
              "  {'polynomial_features__degree': 1,\n",
              "   'ridge_regression__alpha': 1.1192192462141906},\n",
              "  {'polynomial_features__degree': 1,\n",
              "   'ridge_regression__alpha': 1.4546006934046813},\n",
              "  {'polynomial_features__degree': 1,\n",
              "   'ridge_regression__alpha': 1.8904814087234314},\n",
              "  {'polynomial_features__degree': 1,\n",
              "   'ridge_regression__alpha': 2.4569766623469063},\n",
              "  {'polynomial_features__degree': 1,\n",
              "   'ridge_regression__alpha': 3.193225964276324},\n",
              "  {'polynomial_features__degree': 1,\n",
              "   'ridge_regression__alpha': 4.150097237467682},\n",
              "  {'polynomial_features__degree': 1,\n",
              "   'ridge_regression__alpha': 5.3937013143196575},\n",
              "  {'polynomial_features__degree': 1,\n",
              "   'ridge_regression__alpha': 7.009959575271321},\n",
              "  {'polynomial_features__degree': 1,\n",
              "   'ridge_regression__alpha': 9.110540310505934},\n",
              "  {'polynomial_features__degree': 1,\n",
              "   'ridge_regression__alpha': 11.840573951689437},\n",
              "  {'polynomial_features__degree': 1,\n",
              "   'ridge_regression__alpha': 15.388680223910978},\n",
              "  {'polynomial_features__degree': 1, 'ridge_regression__alpha': 20.0},\n",
              "  {'polynomial_features__degree': 2, 'ridge_regression__alpha': 0.01},\n",
              "  {'polynomial_features__degree': 2,\n",
              "   'ridge_regression__alpha': 0.012996566118076808},\n",
              "  {'polynomial_features__degree': 2,\n",
              "   'ridge_regression__alpha': 0.016891073086154205},\n",
              "  {'polynomial_features__degree': 2,\n",
              "   'ridge_regression__alpha': 0.021952594816947082},\n",
              "  {'polynomial_features__degree': 2,\n",
              "   'ridge_regression__alpha': 0.028530835000180298},\n",
              "  {'polynomial_features__degree': 2,\n",
              "   'ridge_regression__alpha': 0.03708028834837832},\n",
              "  {'polynomial_features__degree': 2,\n",
              "   'ridge_regression__alpha': 0.048191641919705167},\n",
              "  {'polynomial_features__degree': 2,\n",
              "   'ridge_regression__alpha': 0.062632586054813},\n",
              "  {'polynomial_features__degree': 2,\n",
              "   'ridge_regression__alpha': 0.08140085458075128},\n",
              "  {'polynomial_features__degree': 2,\n",
              "   'ridge_regression__alpha': 0.10579315886266893},\n",
              "  {'polynomial_features__degree': 2,\n",
              "   'ridge_regression__alpha': 0.13749477839988802},\n",
              "  {'polynomial_features__degree': 2,\n",
              "   'ridge_regression__alpha': 0.17869599783644635},\n",
              "  {'polynomial_features__degree': 2,\n",
              "   'ridge_regression__alpha': 0.23224343509170842},\n",
              "  {'polynomial_features__degree': 2,\n",
              "   'ridge_regression__alpha': 0.3018367159658668},\n",
              "  {'polynomial_features__degree': 2,\n",
              "   'ridge_regression__alpha': 0.39228408359135575},\n",
              "  {'polynomial_features__degree': 2,\n",
              "   'ridge_regression__alpha': 0.5098346029464224},\n",
              "  {'polynomial_features__degree': 2,\n",
              "   'ridge_regression__alpha': 0.6626099126476616},\n",
              "  {'polynomial_features__degree': 2,\n",
              "   'ridge_regression__alpha': 0.8611653540218431},\n",
              "  {'polynomial_features__degree': 2,\n",
              "   'ridge_regression__alpha': 1.1192192462141906},\n",
              "  {'polynomial_features__degree': 2,\n",
              "   'ridge_regression__alpha': 1.4546006934046813},\n",
              "  {'polynomial_features__degree': 2,\n",
              "   'ridge_regression__alpha': 1.8904814087234314},\n",
              "  {'polynomial_features__degree': 2,\n",
              "   'ridge_regression__alpha': 2.4569766623469063},\n",
              "  {'polynomial_features__degree': 2,\n",
              "   'ridge_regression__alpha': 3.193225964276324},\n",
              "  {'polynomial_features__degree': 2,\n",
              "   'ridge_regression__alpha': 4.150097237467682},\n",
              "  {'polynomial_features__degree': 2,\n",
              "   'ridge_regression__alpha': 5.3937013143196575},\n",
              "  {'polynomial_features__degree': 2,\n",
              "   'ridge_regression__alpha': 7.009959575271321},\n",
              "  {'polynomial_features__degree': 2,\n",
              "   'ridge_regression__alpha': 9.110540310505934},\n",
              "  {'polynomial_features__degree': 2,\n",
              "   'ridge_regression__alpha': 11.840573951689437},\n",
              "  {'polynomial_features__degree': 2,\n",
              "   'ridge_regression__alpha': 15.388680223910978},\n",
              "  {'polynomial_features__degree': 2, 'ridge_regression__alpha': 20.0},\n",
              "  {'polynomial_features__degree': 3, 'ridge_regression__alpha': 0.01},\n",
              "  {'polynomial_features__degree': 3,\n",
              "   'ridge_regression__alpha': 0.012996566118076808},\n",
              "  {'polynomial_features__degree': 3,\n",
              "   'ridge_regression__alpha': 0.016891073086154205},\n",
              "  {'polynomial_features__degree': 3,\n",
              "   'ridge_regression__alpha': 0.021952594816947082},\n",
              "  {'polynomial_features__degree': 3,\n",
              "   'ridge_regression__alpha': 0.028530835000180298},\n",
              "  {'polynomial_features__degree': 3,\n",
              "   'ridge_regression__alpha': 0.03708028834837832},\n",
              "  {'polynomial_features__degree': 3,\n",
              "   'ridge_regression__alpha': 0.048191641919705167},\n",
              "  {'polynomial_features__degree': 3,\n",
              "   'ridge_regression__alpha': 0.062632586054813},\n",
              "  {'polynomial_features__degree': 3,\n",
              "   'ridge_regression__alpha': 0.08140085458075128},\n",
              "  {'polynomial_features__degree': 3,\n",
              "   'ridge_regression__alpha': 0.10579315886266893},\n",
              "  {'polynomial_features__degree': 3,\n",
              "   'ridge_regression__alpha': 0.13749477839988802},\n",
              "  {'polynomial_features__degree': 3,\n",
              "   'ridge_regression__alpha': 0.17869599783644635},\n",
              "  {'polynomial_features__degree': 3,\n",
              "   'ridge_regression__alpha': 0.23224343509170842},\n",
              "  {'polynomial_features__degree': 3,\n",
              "   'ridge_regression__alpha': 0.3018367159658668},\n",
              "  {'polynomial_features__degree': 3,\n",
              "   'ridge_regression__alpha': 0.39228408359135575},\n",
              "  {'polynomial_features__degree': 3,\n",
              "   'ridge_regression__alpha': 0.5098346029464224},\n",
              "  {'polynomial_features__degree': 3,\n",
              "   'ridge_regression__alpha': 0.6626099126476616},\n",
              "  {'polynomial_features__degree': 3,\n",
              "   'ridge_regression__alpha': 0.8611653540218431},\n",
              "  {'polynomial_features__degree': 3,\n",
              "   'ridge_regression__alpha': 1.1192192462141906},\n",
              "  {'polynomial_features__degree': 3,\n",
              "   'ridge_regression__alpha': 1.4546006934046813},\n",
              "  {'polynomial_features__degree': 3,\n",
              "   'ridge_regression__alpha': 1.8904814087234314},\n",
              "  {'polynomial_features__degree': 3,\n",
              "   'ridge_regression__alpha': 2.4569766623469063},\n",
              "  {'polynomial_features__degree': 3,\n",
              "   'ridge_regression__alpha': 3.193225964276324},\n",
              "  {'polynomial_features__degree': 3,\n",
              "   'ridge_regression__alpha': 4.150097237467682},\n",
              "  {'polynomial_features__degree': 3,\n",
              "   'ridge_regression__alpha': 5.3937013143196575},\n",
              "  {'polynomial_features__degree': 3,\n",
              "   'ridge_regression__alpha': 7.009959575271321},\n",
              "  {'polynomial_features__degree': 3,\n",
              "   'ridge_regression__alpha': 9.110540310505934},\n",
              "  {'polynomial_features__degree': 3,\n",
              "   'ridge_regression__alpha': 11.840573951689437},\n",
              "  {'polynomial_features__degree': 3,\n",
              "   'ridge_regression__alpha': 15.388680223910978},\n",
              "  {'polynomial_features__degree': 3, 'ridge_regression__alpha': 20.0}],\n",
              " 'split0_test_score': array([0.67193633, 0.67193677, 0.67193733, 0.67193806, 0.67193901,\n",
              "        0.67194023, 0.67194182, 0.67194387, 0.67194651, 0.67194991,\n",
              "        0.67195427, 0.67195984, 0.67196692, 0.67197584, 0.67198698,\n",
              "        0.6720007 , 0.67201731, 0.67203688, 0.67205909, 0.6720828 ,\n",
              "        0.67210557, 0.67212286, 0.67212701, 0.67210602, 0.67204227,\n",
              "        0.67191144, 0.67168191, 0.67131471, 0.67076357, 0.66997409,\n",
              "        0.85596816, 0.85673466, 0.85754502, 0.85838744, 0.85923683,\n",
              "        0.86005593, 0.8607984 , 0.86141342, 0.86185146, 0.86207069,\n",
              "        0.86204296, 0.86175692, 0.86121701, 0.86043862, 0.85944164,\n",
              "        0.85824526, 0.85686499, 0.85531116, 0.85358652, 0.85168148,\n",
              "        0.84956677, 0.84718508, 0.84444475, 0.8412188 , 0.83735345,\n",
              "        0.83268885, 0.82709201, 0.82049582, 0.81293219, 0.80454453,\n",
              "        0.47407459, 0.52285639, 0.56777999, 0.60820475, 0.64383356,\n",
              "        0.67466394, 0.70088872, 0.72279631, 0.74071299, 0.75499897,\n",
              "        0.76607477, 0.77444113, 0.78066853, 0.78535664, 0.78907953,\n",
              "        0.79233402, 0.79550151, 0.79882716, 0.80241652, 0.8062489 ,\n",
              "        0.8102054 , 0.81410727, 0.81775734, 0.82097679, 0.82363124,\n",
              "        0.82564332, 0.82699188, 0.82769977, 0.82781356, 0.82737956]),\n",
              " 'split1_test_score': array([0.74850202, 0.74850202, 0.74850202, 0.74850203, 0.74850203,\n",
              "        0.74850203, 0.74850202, 0.74850201, 0.74850198, 0.74850192,\n",
              "        0.7485018 , 0.74850158, 0.7485012 , 0.74850052, 0.74849935,\n",
              "        0.74849735, 0.74849395, 0.74848822, 0.74847862, 0.74846271,\n",
              "        0.74843653, 0.7483939 , 0.74832529, 0.74821633, 0.74804595,\n",
              "        0.74778408, 0.74738914, 0.74680531, 0.74595952, 0.74475787,\n",
              "        0.83034495, 0.83223261, 0.83430586, 0.83655318, 0.83895357,\n",
              "        0.84147462, 0.84407238, 0.84669299, 0.8492765 , 0.85176254,\n",
              "        0.85409678, 0.85623669, 0.85815469, 0.85983763, 0.86128307,\n",
              "        0.86249368, 0.86347193, 0.864216  , 0.86471709, 0.86495689,\n",
              "        0.86490328, 0.86450357, 0.86367631, 0.86230603, 0.86024638,\n",
              "        0.85733655, 0.85343142, 0.84843954, 0.84235726, 0.83528541,\n",
              "        0.53127217, 0.56046708, 0.5875764 , 0.61382899, 0.63995314,\n",
              "        0.66621534, 0.6924998 , 0.71841436, 0.74340652, 0.76687508,\n",
              "        0.78826712, 0.80715337, 0.82327663, 0.83656988, 0.84714451,\n",
              "        0.85525461, 0.86124773, 0.86551305, 0.86843592, 0.87036284,\n",
              "        0.87157808, 0.87229122, 0.87263516, 0.8726741 , 0.87242004,\n",
              "        0.87185449, 0.87094966, 0.86968339, 0.86804378, 0.8660228 ]),\n",
              " 'split2_test_score': array([0.69769359, 0.69769744, 0.69770245, 0.69770895, 0.69771739,\n",
              "        0.69772834, 0.69774257, 0.69776103, 0.69778497, 0.697816  ,\n",
              "        0.69785619, 0.69790819, 0.69797538, 0.69806206, 0.69817361,\n",
              "        0.69831679, 0.69849987, 0.69873289, 0.6990277 , 0.69939787,\n",
              "        0.69985824, 0.70042399, 0.701109  , 0.70192337, 0.70287012,\n",
              "        0.70394109, 0.70511243, 0.70633978, 0.70755322, 0.7086511 ,\n",
              "        0.81287631, 0.81632229, 0.8199813 , 0.8238317 , 0.82783502,\n",
              "        0.83193076, 0.8360346 , 0.84004401, 0.84385362, 0.84737736,\n",
              "        0.85056849, 0.85342717, 0.85599004, 0.8583053 , 0.86040349,\n",
              "        0.86227636, 0.86387106, 0.86509965, 0.86585705, 0.86603817,\n",
              "        0.86554713, 0.86429682, 0.8622016 , 0.85917021, 0.85510604,\n",
              "        0.84992082, 0.84356169, 0.83604445, 0.82747943, 0.81807606,\n",
              "        0.49081359, 0.5317805 , 0.56666545, 0.59626711, 0.6214239 ,\n",
              "        0.64294951, 0.66160272, 0.67808204, 0.69302417, 0.7069904 ,\n",
              "        0.7204401 , 0.73370161, 0.74695367, 0.7602261 , 0.77342047,\n",
              "        0.78634535, 0.79875731, 0.81039908, 0.82103042, 0.83045198,\n",
              "        0.83852502, 0.84518743, 0.85046095, 0.854443  , 0.85728084,\n",
              "        0.859134  , 0.86013617, 0.86036738, 0.85984211, 0.85851325]),\n",
              " 'mean_test_score': array([0.70604398, 0.70604541, 0.70604727, 0.70604968, 0.70605281,\n",
              "        0.70605687, 0.70606214, 0.70606897, 0.70607782, 0.70608928,\n",
              "        0.70610409, 0.70612321, 0.70614783, 0.70617947, 0.70621998,\n",
              "        0.70627161, 0.70633704, 0.70641933, 0.7065218 , 0.70664779,\n",
              "        0.70680011, 0.70698025, 0.7071871 , 0.70741524, 0.70765278,\n",
              "        0.70787887, 0.70806116, 0.70815327, 0.7080921 , 0.70779435,\n",
              "        0.83306314, 0.83509652, 0.83727739, 0.83959077, 0.84200847,\n",
              "        0.8444871 , 0.84696846, 0.84938347, 0.85166053, 0.85373686,\n",
              "        0.85556941, 0.85714026, 0.85845392, 0.85952718, 0.86037606,\n",
              "        0.8610051 , 0.86140266, 0.86154227, 0.86138689, 0.86089218,\n",
              "        0.86000573, 0.85866182, 0.85677422, 0.85423168, 0.85090196,\n",
              "        0.84664874, 0.84136171, 0.83499327, 0.82758963, 0.819302  ,\n",
              "        0.49872012, 0.53836799, 0.57400728, 0.60610029, 0.6350702 ,\n",
              "        0.66127626, 0.68499708, 0.7064309 , 0.72571456, 0.74295482,\n",
              "        0.75826067, 0.77176537, 0.78363294, 0.79405087, 0.80321484,\n",
              "        0.81131133, 0.81850218, 0.8249131 , 0.83062762, 0.83568791,\n",
              "        0.84010283, 0.84386197, 0.84695115, 0.84936463, 0.85111071,\n",
              "        0.8522106 , 0.85269257, 0.85258351, 0.85189982, 0.85063853]),\n",
              " 'std_test_score': array([0.03181061, 0.03181012, 0.03180949, 0.03180866, 0.03180758,\n",
              "        0.03180619, 0.03180438, 0.03180203, 0.03179899, 0.03179505,\n",
              "        0.03178995, 0.03178337, 0.03177489, 0.03176399, 0.03175   ,\n",
              "        0.03173215, 0.03170946, 0.03168083, 0.03164498, 0.03160057,\n",
              "        0.03154622, 0.03148075, 0.03140331, 0.03131363, 0.03121213,\n",
              "        0.03109977, 0.0309776 , 0.03084558, 0.03070098, 0.03053636,\n",
              "        0.01769686, 0.0166221 , 0.0154786 , 0.0142699 , 0.01300046,\n",
              "        0.01167797, 0.0103151 , 0.00892905, 0.00753849, 0.00615884,\n",
              "        0.00479877, 0.00346011, 0.00214437, 0.00089817, 0.00075201,\n",
              "        0.00195352, 0.00321275, 0.0044208 , 0.00553529, 0.00652789,\n",
              "        0.00738614, 0.00811572, 0.00873902, 0.00929012, 0.00980739,\n",
              "        0.01032496, 0.01086496, 0.01143217, 0.01201299, 0.01257981,\n",
              "        0.02401077, 0.0160455 , 0.0096056 , 0.00732241, 0.00977857,\n",
              "        0.01341012, 0.01689311, 0.02012534, 0.02314174, 0.02588873,\n",
              "        0.02823616, 0.03004619, 0.03122915, 0.03176776, 0.03171397,\n",
              "        0.03116863, 0.03025487, 0.02909461, 0.02779353, 0.02643496,\n",
              "        0.02508012, 0.02377198, 0.02254082, 0.02140865, 0.02039019,\n",
              "        0.01949048, 0.01870164, 0.0180018 , 0.01735756, 0.01672988]),\n",
              " 'rank_test_score': array([83, 82, 81, 80, 79, 78, 77, 76, 75, 74, 73, 72, 71, 70, 69, 68, 67,\n",
              "        66, 64, 63, 62, 61, 60, 59, 58, 56, 55, 53, 54, 57, 39, 37, 35, 34,\n",
              "        31, 29, 26, 24, 20, 15, 13, 11, 10,  8,  6,  4,  2,  1,  3,  5,  7,\n",
              "         9, 12, 14, 22, 28, 32, 38, 41, 43, 90, 89, 88, 87, 86, 85, 84, 65,\n",
              "        52, 51, 50, 49, 48, 47, 46, 45, 44, 42, 40, 36, 33, 30, 27, 25, 21,\n",
              "        18, 16, 17, 19, 23], dtype=int32)}"
            ]
          },
          "execution_count": 151,
          "metadata": {},
          "output_type": "execute_result"
        }
      ],
      "source": [
        "grid.cv_results_"
      ]
    },
    {
      "attachments": {},
      "cell_type": "markdown",
      "metadata": {},
      "source": [
        "## Summary\n",
        "\n",
        "1. We can manually generate folds by using `KFolds`\n",
        "2. We can get a score using `cross_val_predict(X, y, cv=KFoldObject_or_integer)`. \n",
        "   This will produce the out-of-bag prediction for each row.\n",
        "3. When doing hyperparameter selection, we should be optimizing on out-of-bag scores. This means either using `cross_val_predict` in a loop, or ....\n",
        "4. .... use `GridSearchCV`. GridSearchCV takes a model (or pipeline) and a dictionary of parameters to scan over. It finds the hyperparameter set that has the best out-of-sample score on all the parameters, and calls that it's \"best estimator\". It then retrains on all data with the \"best\" hyper-parameters.\n",
        "\n",
        "### Extensions\n",
        "\n",
        "Here are some additional items to keep in mind:\n",
        "* There is a `RandomSearchCV` that tries random combination of model parameters. This can be helpful if you have a prohibitive number of combinations to test them all exhaustively.\n",
        "* KFolds will randomly select rows to be in the training and test folds. There are other methods (such as `StratifiedKFolds` and `GroupKFold`, which are useful when you need more control over how the data is split (e.g. to prevent data leakage). You can create these specialized objects and pass them to the `cv` argument of `GridSearchCV`.\n"
      ]
    },
    {
      "attachments": {},
      "cell_type": "markdown",
      "metadata": {},
      "source": [
        "---\n",
        "### Machine Learning Foundation (C) 2020 IBM Corporation\n"
      ]
    }
  ],
  "metadata": {
    "kernelspec": {
      "display_name": "basico",
      "language": "python",
      "name": "python3"
    },
    "language_info": {
      "codemirror_mode": {
        "name": "ipython",
        "version": 3
      },
      "file_extension": ".py",
      "mimetype": "text/x-python",
      "name": "python",
      "nbconvert_exporter": "python",
      "pygments_lexer": "ipython3",
      "version": "3.10.8"
    }
  },
  "nbformat": 4,
  "nbformat_minor": 4
}
